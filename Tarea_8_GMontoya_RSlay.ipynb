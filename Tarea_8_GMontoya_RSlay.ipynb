{
 "cells": [
  {
   "cell_type": "markdown",
   "metadata": {},
   "source": [
    "<img style=\"float: left; margin: 30px 15px 15px 15px;\" src=\"https://pngimage.net/wp-content/uploads/2018/06/logo-iteso-png-5.png\" width=\"300\" height=\"500\" /> \n",
    "    \n",
    "    \n",
    "### <font color='navy'> Simulación de procesos financieros. \n",
    "\n",
    "**Nombres:** Gabriela Montoya / Rodolfo Slay\n",
    "\n",
    "**Fecha:** 06 de octubre del 2020.\n",
    "\n",
    "**Expediente** : IF715478 / 715214\n",
    "    \n",
    "**Profesor:** Oscar David Jaramillo Zuluaga. \n",
    "   \n",
    "**Link:** https://github.com/Gabs0102/Tarea8_GMontoya_RSlay.git\n",
    "    \n",
    "# Tarea 8"
   ]
  },
  {
   "cell_type": "markdown",
   "metadata": {},
   "source": [
    "<img src=\"IMG.png\">"
   ]
  },
  {
   "cell_type": "code",
   "execution_count": 48,
   "metadata": {},
   "outputs": [
    {
     "name": "stdout",
     "output_type": "stream",
     "text": [
      "media =  -0.1717087878221074\n"
     ]
    }
   ],
   "source": [
    "# Respuesta Gaby\n",
    "\n",
    "import numpy as np \n",
    "import matplotlib.pyplot as plt \n",
    "import pandas as pd\n",
    "from functools import reduce\n",
    "import time\n",
    "import scipy.stats as st\n",
    "\n",
    "\n",
    "# a)\n",
    "\n",
    "N = 10\n",
    "f = lambda x: (3/2) * x ** 2 if x >= -1 and x <=1 else 0 \n",
    "xi = lambda u: (2*u-1)**(1/3) if u > 0.5 else -(1-2*u)**(1/3)\n",
    "u = np.random.rand(N)\n",
    "x = np.arange(-1,1,0.001)\n",
    "np.random.seed(50)\n",
    "m = np.mean(list(map(xi, np.random.rand(10))))\n",
    "print('media = ',m)               \n"
   ]
  },
  {
   "cell_type": "code",
   "execution_count": 80,
   "metadata": {},
   "outputs": [
    {
     "name": "stdout",
     "output_type": "stream",
     "text": [
      "media =  -0.16403006584008897\n"
     ]
    }
   ],
   "source": [
    "# b)\n",
    "\n",
    "np.random.seed(50)\n",
    "n1 = 3\n",
    "n2 = 3\n",
    "n3 = 4\n",
    "suma = n1 + n2 + n3\n",
    "r1 = np.random.uniform(0,.6,n1)\n",
    "r2 = np.random.uniform(.6,.9,n2)\n",
    "r3 = np.random.uniform(.9,1,n3)\n",
    "r = [r1,r2,r3]\n",
    "\n",
    "w1 = (n1/N)/.6\n",
    "w2 = (n2/N)/.3\n",
    "w3 = (n3/N)/.1\n",
    "w = [w1,w2,w3]\n",
    "\n",
    "m_2 = list(map(lambda x: np.array(list(map(xi,x))),r))\n",
    "est = list(map(lambda x, wi:x/wi,m_2, w))\n",
    "est_2 = np.concatenate(est)\n",
    "media = np.mean(est_2)\n",
    "print('media = ',media)"
   ]
  },
  {
   "cell_type": "code",
   "execution_count": 110,
   "metadata": {},
   "outputs": [
    {
     "name": "stdout",
     "output_type": "stream",
     "text": [
      "media =  -1.1102230246251566e-17\n"
     ]
    }
   ],
   "source": [
    "# c)\n",
    "\n",
    "np.random.seed(50)\n",
    "u1 = np.random.rand(10)\n",
    "u2 = 1-u1\n",
    "u = [u1,u2]\n",
    "\n",
    "m_3 = list(map(lambda x: np.array(list(map(xi,x))),u))\n",
    "print('media = ', np.mean(m_3))"
   ]
  },
  {
   "cell_type": "code",
   "execution_count": 83,
   "metadata": {},
   "outputs": [
    {
     "name": "stdout",
     "output_type": "stream",
     "text": [
      "[0.009578670364904285, -0.020227498177179393, -0.002665028891319791, 0.0263734811587652]\n"
     ]
    }
   ],
   "source": [
    "# d) \n",
    "\n",
    "def estratos(a,b,N):\n",
    "    u3 = np.random.uniform(a,b,N)\n",
    "    i = np.arange(0,N)\n",
    "    v = (u3+i)/N\n",
    "    return v\n",
    "\n",
    "B = [2,4,6,10]\n",
    "\n",
    "a = np.asarray(list(map(lambda x: estratos(0,1,x), B)))\n",
    "m_4 =np.asarray (list(map(lambda x: np.asarray(list(map(xi,x))),a)))\n",
    "\n",
    "media_2 = [np.mean(m_4[x]) for x in range(4)]\n",
    "print(media_2)"
   ]
  },
  {
   "cell_type": "markdown",
   "metadata": {},
   "source": [
    "#### Conclusión\n",
    "\n",
    "En mi opinion, considero que el metodo de números complementarios nos ofrece una mayor exactitud en comparación a los demas dados metodos utilizados."
   ]
  },
  {
   "cell_type": "code",
   "execution_count": 111,
   "metadata": {},
   "outputs": [
    {
     "name": "stdout",
     "output_type": "stream",
     "text": [
      "media =  -0.1717087878221074\n"
     ]
    }
   ],
   "source": [
    "# Respuesta Rodo\n",
    "\n",
    "# a)\n",
    "\n",
    "N = 10\n",
    "f = lambda x: (3/2) * x ** 2 if x >= -1 and x <=1 else 0 \n",
    "xi = lambda u: (2*u-1)**(1/3) if u > 0.5 else -(1-2*u)**(1/3)\n",
    "u = np.random.rand(N)\n",
    "x = np.arange(-1,1,0.001)\n",
    "np.random.seed(50)\n",
    "m = np.mean(list(map(xi, np.random.rand(10))))\n",
    "print('media = ',m)               \n"
   ]
  },
  {
   "cell_type": "code",
   "execution_count": 112,
   "metadata": {},
   "outputs": [
    {
     "name": "stdout",
     "output_type": "stream",
     "text": [
      "media =  -0.16403006584008897\n"
     ]
    }
   ],
   "source": [
    "# b)\n",
    "\n",
    "np.random.seed(50)\n",
    "n1 = 3\n",
    "n2 = 3\n",
    "n3 = 4\n",
    "suma = n1 + n2 + n3\n",
    "r1 = np.random.uniform(0,.6,n1)\n",
    "r2 = np.random.uniform(.6,.9,n2)\n",
    "r3 = np.random.uniform(.9,1,n3)\n",
    "r = [r1,r2,r3]\n",
    "\n",
    "w1 = (n1/N)/.6\n",
    "w2 = (n2/N)/.3\n",
    "w3 = (n3/N)/.1\n",
    "w = [w1,w2,w3]\n",
    "\n",
    "m_2 = list(map(lambda x: np.array(list(map(xi,x))),r))\n",
    "est = list(map(lambda x, wi:x/wi,m_2, w))\n",
    "est_2 = np.concatenate(est)\n",
    "media = np.mean(est_2)\n",
    "print('media = ',media)"
   ]
  },
  {
   "cell_type": "code",
   "execution_count": 113,
   "metadata": {},
   "outputs": [
    {
     "name": "stdout",
     "output_type": "stream",
     "text": [
      "media =  -1.1102230246251566e-17\n"
     ]
    }
   ],
   "source": [
    "# c)\n",
    "\n",
    "np.random.seed(50)\n",
    "u1 = np.random.rand(10)\n",
    "u2 = 1-u1\n",
    "u = [u1,u2]\n",
    "\n",
    "m_3 = list(map(lambda x: np.array(list(map(xi,x))),u))\n",
    "print('media = ', np.mean(m_3))"
   ]
  },
  {
   "cell_type": "code",
   "execution_count": 114,
   "metadata": {},
   "outputs": [
    {
     "name": "stdout",
     "output_type": "stream",
     "text": [
      "[-0.08093024465948351, 0.11879475911882492, 0.014498004004335966, -0.025124373853335658]\n"
     ]
    }
   ],
   "source": [
    "# d) \n",
    "\n",
    "def estratos(a,b,N):\n",
    "    u3 = np.random.uniform(a,b,N)\n",
    "    i = np.arange(0,N)\n",
    "    v = (u3+i)/N\n",
    "    return v\n",
    "\n",
    "B = [2,4,6,10]\n",
    "\n",
    "a = np.asarray(list(map(lambda x: estratos(0,1,x), B)))\n",
    "m_4 =np.asarray (list(map(lambda x: np.asarray(list(map(xi,x))),a)))\n",
    "\n",
    "media_2 = [np.mean(m_4[x]) for x in range(4)]\n",
    "print(media_2)"
   ]
  }
 ],
 "metadata": {
  "kernelspec": {
   "display_name": "Python 3",
   "language": "python",
   "name": "python3"
  },
  "language_info": {
   "codemirror_mode": {
    "name": "ipython",
    "version": 3
   },
   "file_extension": ".py",
   "mimetype": "text/x-python",
   "name": "python",
   "nbconvert_exporter": "python",
   "pygments_lexer": "ipython3",
   "version": "3.8.3"
  }
 },
 "nbformat": 4,
 "nbformat_minor": 4
}
